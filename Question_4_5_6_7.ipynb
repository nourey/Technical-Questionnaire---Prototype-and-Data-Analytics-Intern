{
 "cells": [
  {
   "cell_type": "markdown",
   "id": "b0a23c4e",
   "metadata": {},
   "source": [
    "# Question 1"
   ]
  },
  {
   "cell_type": "markdown",
   "id": "94d51ed3",
   "metadata": {},
   "source": [
    "##### Implement code to fill the missing data (impute) in daily_vaccinations column per country with the minimum daily vaccination number of relevant countries.  "
   ]
  },
  {
   "cell_type": "code",
   "execution_count": 3,
   "id": "2755d1cb",
   "metadata": {},
   "outputs": [],
   "source": [
    "import pandas as pd \n",
    "#pd.set_option('display.max_rows', None)\n",
    "\n",
    "# path = '~/country_vaccination_stats.csv'\n",
    "data = pd.read_csv(path)\n",
    "\n",
    "zero_vaccine = data.groupby('country')['daily_vaccinations'].sum()\n",
    "zero_vaccine = zero_vaccine.loc[zero_vaccine == 0]\n",
    "zero_vaccine = zero_vaccine.index.tolist()\n",
    "\n",
    "for val in zero_vaccine:\n",
    "    data.loc[data[\"country\"] == val, \"daily_vaccinations\"] = 0.0\n",
    "    \n",
    "    \n",
    "data['daily_vaccinations'] = data['daily_vaccinations'].fillna(data.groupby('country')['daily_vaccinations'].transform('min'))\n"
   ]
  },
  {
   "cell_type": "markdown",
   "id": "9a9777aa",
   "metadata": {},
   "source": [
    "# Question 2"
   ]
  },
  {
   "cell_type": "markdown",
   "id": "6445d7c9",
   "metadata": {},
   "source": [
    "#####  Implement code to list the top-3 countries with highest median daily vaccination numbers by considering missing values imputed version of dataset."
   ]
  },
  {
   "cell_type": "code",
   "execution_count": 4,
   "id": "101fcc42",
   "metadata": {},
   "outputs": [
    {
     "data": {
      "text/plain": [
       "country\n",
       "United States    378253.0\n",
       "China            276786.0\n",
       "India            173922.0\n",
       "Name: daily_vaccinations, dtype: float64"
      ]
     },
     "execution_count": 4,
     "metadata": {},
     "output_type": "execute_result"
    }
   ],
   "source": [
    "data.groupby('country')['daily_vaccinations'].median().nlargest(3)"
   ]
  },
  {
   "cell_type": "markdown",
   "id": "af31a009",
   "metadata": {},
   "source": [
    "# Question 3"
   ]
  },
  {
   "cell_type": "markdown",
   "id": "f19bfc09",
   "metadata": {},
   "source": [
    "##### What is the number of total vaccinations done on 1/6/2021 (MM/DD/YYYY) by considering missing values imputed version of dataset? "
   ]
  },
  {
   "cell_type": "code",
   "execution_count": 5,
   "id": "55cac2e1",
   "metadata": {},
   "outputs": [
    {
     "name": "stdout",
     "output_type": "stream",
     "text": [
      "1485255.0\n"
     ]
    }
   ],
   "source": [
    "date_dict = data.groupby(['date'])['daily_vaccinations'].sum().to_dict()\n",
    "print(date_dict['1/6/2021'])\n",
    "\n",
    "# 1485255.0"
   ]
  },
  {
   "cell_type": "markdown",
   "id": "1615bdf4",
   "metadata": {},
   "source": [
    "# Question 4"
   ]
  },
  {
   "cell_type": "markdown",
   "id": "d74f95b0",
   "metadata": {},
   "source": [
    "##### If this list would be a database table, please provide SQL query to fill in the missing daily vaccination numbers with discrete median of country as similar to question a.  "
   ]
  },
  {
   "cell_type": "markdown",
   "id": "3b0845b0",
   "metadata": {},
   "source": [
    "``` sql\n",
    "WITH vaccination_median AS(\n",
    "SELECT country, percentile_approx(daily_vaccinations, 0.5) AS vaccination_median \n",
    "    FROM country_vaccination_stats\n",
    "    GROUP BY country\n",
    ")\n",
    "SELECT main.country, date, \n",
    "    case when daily_vaccinations IS NULL AND vaccination_median IS NULL then 0\n",
    "    when daily_vaccinations IS NULL AND vaccination_median IS NOT NULL then vaccination_median\n",
    "    when daily_vaccinations IS NOT NULL then daily_vaccinations,\n",
    "    vaccines    \n",
    "FROM country_vaccination_stats AS main\n",
    "LEFT JOIN vaccination_median AS vac_median\n",
    "ON main.country = vac_median.country\n",
    "```"
   ]
  },
  {
   "cell_type": "code",
   "execution_count": null,
   "id": "8db66ebb",
   "metadata": {},
   "outputs": [],
   "source": []
  },
  {
   "cell_type": "code",
   "execution_count": null,
   "id": "e87fa444",
   "metadata": {},
   "outputs": [],
   "source": []
  },
  {
   "cell_type": "code",
   "execution_count": null,
   "id": "51dde7e4",
   "metadata": {},
   "outputs": [],
   "source": []
  }
 ],
 "metadata": {
  "kernelspec": {
   "display_name": "Python 3 (ipykernel)",
   "language": "python",
   "name": "python3"
  },
  "language_info": {
   "codemirror_mode": {
    "name": "ipython",
    "version": 3
   },
   "file_extension": ".py",
   "mimetype": "text/x-python",
   "name": "python",
   "nbconvert_exporter": "python",
   "pygments_lexer": "ipython3",
   "version": "3.9.13"
  }
 },
 "nbformat": 4,
 "nbformat_minor": 5
}
