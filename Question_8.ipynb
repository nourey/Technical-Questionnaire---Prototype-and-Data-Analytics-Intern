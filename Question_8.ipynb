{
 "cells": [
  {
   "cell_type": "markdown",
   "id": "7f305338",
   "metadata": {},
   "source": [
    "# Question 8 "
   ]
  },
  {
   "cell_type": "code",
   "execution_count": 1,
   "id": "b6510f1d",
   "metadata": {},
   "outputs": [],
   "source": [
    "import pandas as pd \n",
    "data = pd.read_excel('/Users/ayberkbulut/Downloads/test2.xlsx')\n"
   ]
  },
  {
   "cell_type": "code",
   "execution_count": 2,
   "id": "45300849",
   "metadata": {},
   "outputs": [],
   "source": [
    "def _remove_html(txt):\n",
    "    return txt.replace('<url>', '').replace('</url>','')\n",
    "\n",
    "def return_final(txt):\n",
    "    txt = _remove_html(txt)\n",
    "    return txt.split(\"/\")[-1]"
   ]
  },
  {
   "cell_type": "code",
   "execution_count": 7,
   "id": "68728256",
   "metadata": {},
   "outputs": [
    {
     "name": "stdout",
     "output_type": "stream",
     "text": [
      "Device Type: axo145 URL: xcd32112.smart_meter.com\n",
      "\n",
      "Device Type: tru151 URL: txh67.dia_meter.com\n",
      "\n",
      "Device Type: zod231 URL: yT5495.smart_meter.com\n",
      "\n",
      "Device Type: yrt326 URL: ret323_TRu.crown.com\n",
      "\n",
      "Device Type: lwr245 URL: luwr3243.celcius.com\n",
      "\n"
     ]
    }
   ],
   "source": [
    "for index, row in data.iterrows():\n",
    "    print('Device Type: {} URL: {}\\n'.format(row['Device_Type'].lower(), return_final(row['Stats_Access_Link'])))\n"
   ]
  },
  {
   "cell_type": "code",
   "execution_count": null,
   "id": "0e891bee",
   "metadata": {},
   "outputs": [],
   "source": []
  },
  {
   "cell_type": "code",
   "execution_count": null,
   "id": "8e7ba099",
   "metadata": {},
   "outputs": [],
   "source": []
  },
  {
   "cell_type": "code",
   "execution_count": null,
   "id": "a044e7f1",
   "metadata": {},
   "outputs": [],
   "source": []
  }
 ],
 "metadata": {
  "kernelspec": {
   "display_name": "Python 3 (ipykernel)",
   "language": "python",
   "name": "python3"
  },
  "language_info": {
   "codemirror_mode": {
    "name": "ipython",
    "version": 3
   },
   "file_extension": ".py",
   "mimetype": "text/x-python",
   "name": "python",
   "nbconvert_exporter": "python",
   "pygments_lexer": "ipython3",
   "version": "3.9.13"
  }
 },
 "nbformat": 4,
 "nbformat_minor": 5
}
